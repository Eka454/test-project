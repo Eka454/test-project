{
 "cells": [
  {
   "cell_type": "markdown",
   "id": "92c3c4ef",
   "metadata": {},
   "source": [
    "* Извлекать реплики с приветствием – где менеджер поздоровался.  \n",
    "* Извлекать реплики, где менеджер представил себя.  \n",
    "* Извлекать имя менеджера.  \n",
    "* Извлекать название компании.  \n",
    "* Извлекать реплики, где менеджер попрощался.  \n",
    "* Проверять требование к менеджеру: «В каждом диалоге обязательно необходимо поздороваться и попрощаться с клиентом»  "
   ]
  },
  {
   "cell_type": "code",
   "execution_count": 1,
   "id": "43c802b2",
   "metadata": {},
   "outputs": [],
   "source": [
    "import pandas as pd\n",
    "from yargy import rule, Parser, or_\n",
    "from yargy.predicates import eq, type as ttype, dictionary\n",
    "from yargy.pipelines import caseless_pipeline\n",
    "from yargy.interpretation import fact"
   ]
  },
  {
   "cell_type": "markdown",
   "id": "a1a080e8",
   "metadata": {},
   "source": [
    "# Data"
   ]
  },
  {
   "cell_type": "code",
   "execution_count": 2,
   "id": "a965460d",
   "metadata": {},
   "outputs": [],
   "source": [
    "data = pd.read_csv('test_data.csv')"
   ]
  },
  {
   "cell_type": "code",
   "execution_count": 3,
   "id": "0e9ecd65",
   "metadata": {},
   "outputs": [
    {
     "data": {
      "text/html": [
       "<div>\n",
       "<style scoped>\n",
       "    .dataframe tbody tr th:only-of-type {\n",
       "        vertical-align: middle;\n",
       "    }\n",
       "\n",
       "    .dataframe tbody tr th {\n",
       "        vertical-align: top;\n",
       "    }\n",
       "\n",
       "    .dataframe thead th {\n",
       "        text-align: right;\n",
       "    }\n",
       "</style>\n",
       "<table border=\"1\" class=\"dataframe\">\n",
       "  <thead>\n",
       "    <tr style=\"text-align: right;\">\n",
       "      <th></th>\n",
       "      <th>dlg_id</th>\n",
       "      <th>line_n</th>\n",
       "      <th>role</th>\n",
       "      <th>text</th>\n",
       "    </tr>\n",
       "  </thead>\n",
       "  <tbody>\n",
       "    <tr>\n",
       "      <th>0</th>\n",
       "      <td>0</td>\n",
       "      <td>0</td>\n",
       "      <td>client</td>\n",
       "      <td>Алло</td>\n",
       "    </tr>\n",
       "    <tr>\n",
       "      <th>1</th>\n",
       "      <td>0</td>\n",
       "      <td>1</td>\n",
       "      <td>manager</td>\n",
       "      <td>Алло здравствуйте</td>\n",
       "    </tr>\n",
       "    <tr>\n",
       "      <th>2</th>\n",
       "      <td>0</td>\n",
       "      <td>2</td>\n",
       "      <td>client</td>\n",
       "      <td>Добрый день</td>\n",
       "    </tr>\n",
       "    <tr>\n",
       "      <th>3</th>\n",
       "      <td>0</td>\n",
       "      <td>3</td>\n",
       "      <td>manager</td>\n",
       "      <td>Меня зовут ангелина компания диджитал бизнес з...</td>\n",
       "    </tr>\n",
       "    <tr>\n",
       "      <th>4</th>\n",
       "      <td>0</td>\n",
       "      <td>4</td>\n",
       "      <td>client</td>\n",
       "      <td>Ага</td>\n",
       "    </tr>\n",
       "  </tbody>\n",
       "</table>\n",
       "</div>"
      ],
      "text/plain": [
       "   dlg_id  line_n     role                                               text\n",
       "0       0       0   client                                               Алло\n",
       "1       0       1  manager                                  Алло здравствуйте\n",
       "2       0       2   client                                        Добрый день\n",
       "3       0       3  manager  Меня зовут ангелина компания диджитал бизнес з...\n",
       "4       0       4   client                                                Ага"
      ]
     },
     "execution_count": 3,
     "metadata": {},
     "output_type": "execute_result"
    }
   ],
   "source": [
    "data.head()"
   ]
  },
  {
   "cell_type": "markdown",
   "id": "601ce564",
   "metadata": {},
   "source": [
    "# Files"
   ]
  },
  {
   "cell_type": "code",
   "execution_count": 4,
   "id": "7d287cf4",
   "metadata": {},
   "outputs": [
    {
     "data": {
      "text/plain": [
       "['Диля',\n",
       " 'Евсей',\n",
       " 'Ханс',\n",
       " 'Белла',\n",
       " 'Марта',\n",
       " 'Гортензия',\n",
       " 'Афанасий',\n",
       " 'Фредерик',\n",
       " 'Авдей',\n",
       " 'Алон']"
      ]
     },
     "execution_count": 4,
     "metadata": {},
     "output_type": "execute_result"
    }
   ],
   "source": [
    "from random import seed, sample\n",
    "\n",
    "names = []\n",
    "with open('names.txt', encoding=\"utf-8\") as file:\n",
    "    for line in file:\n",
    "        name = line.rstrip()\n",
    "        names.append(name)\n",
    "\n",
    "\n",
    "seed(1)\n",
    "sample(names, 10)"
   ]
  },
  {
   "cell_type": "code",
   "execution_count": 5,
   "id": "5a715a4a",
   "metadata": {},
   "outputs": [
    {
     "data": {
      "text/plain": [
       "['добрый день',\n",
       " 'здравствуйте',\n",
       " 'доброе утро',\n",
       " 'добрый вечер',\n",
       " 'приветсвую',\n",
       " 'привет']"
      ]
     },
     "execution_count": 5,
     "metadata": {},
     "output_type": "execute_result"
    }
   ],
   "source": [
    "greetings = []\n",
    "with open('greetings.txt', encoding=\"utf-8\") as file:\n",
    "    for line in file:\n",
    "        greeting = line.rstrip()\n",
    "        greetings.append(greeting)\n",
    "greetings"
   ]
  },
  {
   "cell_type": "code",
   "execution_count": 6,
   "id": "492b2ce9",
   "metadata": {},
   "outputs": [
    {
     "data": {
      "text/plain": [
       "['до свидания',\n",
       " 'до встречи',\n",
       " 'прощайте',\n",
       " 'счастливо',\n",
       " 'пока',\n",
       " 'всего доброго',\n",
       " 'всего хорошего',\n",
       " 'всего вам хорошего']"
      ]
     },
     "execution_count": 6,
     "metadata": {},
     "output_type": "execute_result"
    }
   ],
   "source": [
    "goodbyes = []\n",
    "with open('goodbyes.txt', encoding=\"utf-8\") as file:\n",
    "    for line in file:\n",
    "        goodbye = line.rstrip()\n",
    "        goodbyes.append(goodbye)\n",
    "goodbyes"
   ]
  },
  {
   "cell_type": "markdown",
   "id": "20888ed5",
   "metadata": {},
   "source": [
    "# Info parser"
   ]
  },
  {
   "cell_type": "code",
   "execution_count": 7,
   "id": "e942bb6a",
   "metadata": {},
   "outputs": [],
   "source": [
    "\n",
    "dialog_info = fact(\n",
    "    'info', \n",
    "    ['greeting', 'goodbye', 'introduced', 'company_name']\n",
    ")\n",
    "\n",
    "GREETING = caseless_pipeline(greetings).interpretation(dialog_info.greeting) \n",
    "GOODBYE = caseless_pipeline(goodbyes).interpretation(dialog_info.goodbye) \n",
    "\n",
    "INTRODUSED = or_(\n",
    "    rule(eq('меня'),  dictionary(names), eq('зовут')),\n",
    "    rule(eq('меня'), eq('зовут'),  dictionary(names)),\n",
    "    rule(eq('мое'), eq('имя'),  dictionary(names)),\n",
    "    rule(eq('с'), eq('вами'), eq('говорит'),  dictionary(names))\n",
    ").interpretation(dialog_info.introduced) \n",
    "\n",
    "company_start = eq('компания')\n",
    "company_name = ttype('RU').interpretation(dialog_info.company_name)\n",
    "COMPANY = rule(company_start, company_name)\n",
    "\n",
    "INFO = or_(\n",
    "    GREETING, GOODBYE, INTRODUSED, COMPANY\n",
    ").interpretation(\n",
    "    dialog_info\n",
    ")\n",
    "\n",
    "parser = Parser(INFO)"
   ]
  },
  {
   "cell_type": "markdown",
   "id": "3995e8b1",
   "metadata": {},
   "source": [
    "# Name parser"
   ]
  },
  {
   "cell_type": "code",
   "execution_count": 8,
   "id": "64e93c8c",
   "metadata": {},
   "outputs": [],
   "source": [
    "name_info = fact(\n",
    "    'manager',\n",
    "    ['name']\n",
    ")\n",
    "\n",
    "NAME = dictionary(names).interpretation(name_info.name).interpretation(name_info)\n",
    "name_parser = Parser(NAME)"
   ]
  },
  {
   "cell_type": "markdown",
   "id": "ee416289",
   "metadata": {},
   "source": [
    "# Parsing"
   ]
  },
  {
   "cell_type": "code",
   "execution_count": 9,
   "id": "c24674a5",
   "metadata": {},
   "outputs": [],
   "source": [
    "def parsing_facts(line):\n",
    "    matches = list(parser.findall(line.lower()))\n",
    "    if matches:\n",
    "        facts = []\n",
    "        for match in matches:\n",
    "            fact = match.fact\n",
    "            for f, pars in fact.as_json.items():\n",
    "                facts.append('{0} - {1}'.format(f, pars))\n",
    "                if fact.introduced is not None:\n",
    "                    name = name_parser.find(fact.introduced).fact.name\n",
    "                    facts.append('managers_name - {0}'.format(name))\n",
    "        return '; '.join(facts)\n",
    "    return ''"
   ]
  },
  {
   "cell_type": "code",
   "execution_count": 10,
   "id": "88fe2d59",
   "metadata": {},
   "outputs": [],
   "source": [
    "insight = pd.DataFrame({'insight':data[data.role == 'manager'].text.apply(parsing_facts)})"
   ]
  },
  {
   "cell_type": "code",
   "execution_count": 11,
   "id": "12a67719",
   "metadata": {},
   "outputs": [],
   "source": [
    "data_insights = pd.merge(data, insight, left_index=True, right_index=True, how='outer')\n",
    "data_insights.insight.fillna('', inplace=True)"
   ]
  },
  {
   "cell_type": "code",
   "execution_count": 12,
   "id": "5906aa12",
   "metadata": {},
   "outputs": [
    {
     "data": {
      "text/html": [
       "<div>\n",
       "<style scoped>\n",
       "    .dataframe tbody tr th:only-of-type {\n",
       "        vertical-align: middle;\n",
       "    }\n",
       "\n",
       "    .dataframe tbody tr th {\n",
       "        vertical-align: top;\n",
       "    }\n",
       "\n",
       "    .dataframe thead th {\n",
       "        text-align: right;\n",
       "    }\n",
       "</style>\n",
       "<table border=\"1\" class=\"dataframe\">\n",
       "  <thead>\n",
       "    <tr style=\"text-align: right;\">\n",
       "      <th></th>\n",
       "      <th>role</th>\n",
       "      <th>text</th>\n",
       "      <th>insight</th>\n",
       "    </tr>\n",
       "  </thead>\n",
       "  <tbody>\n",
       "    <tr>\n",
       "      <th>0</th>\n",
       "      <td>client</td>\n",
       "      <td>Алло</td>\n",
       "      <td></td>\n",
       "    </tr>\n",
       "    <tr>\n",
       "      <th>1</th>\n",
       "      <td>manager</td>\n",
       "      <td>Алло здравствуйте</td>\n",
       "      <td>greeting - здравствуйте</td>\n",
       "    </tr>\n",
       "    <tr>\n",
       "      <th>2</th>\n",
       "      <td>client</td>\n",
       "      <td>Добрый день</td>\n",
       "      <td></td>\n",
       "    </tr>\n",
       "    <tr>\n",
       "      <th>3</th>\n",
       "      <td>manager</td>\n",
       "      <td>Меня зовут ангелина компания диджитал бизнес з...</td>\n",
       "      <td>introduced - меня зовут ангелина; managers_nam...</td>\n",
       "    </tr>\n",
       "    <tr>\n",
       "      <th>4</th>\n",
       "      <td>client</td>\n",
       "      <td>Ага</td>\n",
       "      <td></td>\n",
       "    </tr>\n",
       "    <tr>\n",
       "      <th>...</th>\n",
       "      <td>...</td>\n",
       "      <td>...</td>\n",
       "      <td>...</td>\n",
       "    </tr>\n",
       "    <tr>\n",
       "      <th>475</th>\n",
       "      <td>manager</td>\n",
       "      <td>По поводу виджетов и с ними уже обсудите конкр...</td>\n",
       "      <td></td>\n",
       "    </tr>\n",
       "    <tr>\n",
       "      <th>476</th>\n",
       "      <td>manager</td>\n",
       "      <td>Все я вам высылаю счет и с вами на связи если ...</td>\n",
       "      <td></td>\n",
       "    </tr>\n",
       "    <tr>\n",
       "      <th>477</th>\n",
       "      <td>client</td>\n",
       "      <td>Спасибо спасибо</td>\n",
       "      <td></td>\n",
       "    </tr>\n",
       "    <tr>\n",
       "      <th>478</th>\n",
       "      <td>client</td>\n",
       "      <td>Да да тогда созвонимся ага спасибо вам давайте</td>\n",
       "      <td></td>\n",
       "    </tr>\n",
       "    <tr>\n",
       "      <th>479</th>\n",
       "      <td>manager</td>\n",
       "      <td>Ну до свидания хорошего вечера</td>\n",
       "      <td>goodbye - до свидания</td>\n",
       "    </tr>\n",
       "  </tbody>\n",
       "</table>\n",
       "<p>480 rows × 3 columns</p>\n",
       "</div>"
      ],
      "text/plain": [
       "        role                                               text  \\\n",
       "0     client                                               Алло   \n",
       "1    manager                                  Алло здравствуйте   \n",
       "2     client                                        Добрый день   \n",
       "3    manager  Меня зовут ангелина компания диджитал бизнес з...   \n",
       "4     client                                                Ага   \n",
       "..       ...                                                ...   \n",
       "475  manager  По поводу виджетов и с ними уже обсудите конкр...   \n",
       "476  manager  Все я вам высылаю счет и с вами на связи если ...   \n",
       "477   client                                    Спасибо спасибо   \n",
       "478   client     Да да тогда созвонимся ага спасибо вам давайте   \n",
       "479  manager                     Ну до свидания хорошего вечера   \n",
       "\n",
       "                                               insight  \n",
       "0                                                       \n",
       "1                              greeting - здравствуйте  \n",
       "2                                                       \n",
       "3    introduced - меня зовут ангелина; managers_nam...  \n",
       "4                                                       \n",
       "..                                                 ...  \n",
       "475                                                     \n",
       "476                                                     \n",
       "477                                                     \n",
       "478                                                     \n",
       "479                              goodbye - до свидания  \n",
       "\n",
       "[480 rows x 3 columns]"
      ]
     },
     "execution_count": 12,
     "metadata": {},
     "output_type": "execute_result"
    }
   ],
   "source": [
    "data_insights[['role', 'text', 'insight']]"
   ]
  },
  {
   "cell_type": "code",
   "execution_count": 13,
   "id": "cb66d235",
   "metadata": {},
   "outputs": [],
   "source": [
    "dlg_id_info = data_insights[data_insights.insight != ''].groupby(\"dlg_id\").agg({'insight': lambda x: '; '.join(x)})"
   ]
  },
  {
   "cell_type": "code",
   "execution_count": 14,
   "id": "28cd2b73",
   "metadata": {},
   "outputs": [
    {
     "name": "stdout",
     "output_type": "stream",
     "text": [
      "dlg_id:  0 \n",
      " требование -  выполнено \n",
      "\n",
      " greeting - здравствуйте\n",
      "introduced - меня зовут ангелина\n",
      "managers_name - ангелина\n",
      "company_name - диджитал\n",
      "goodbye - всего хорошего\n",
      "goodbye - до свидания \n",
      "\n",
      "\n",
      "dlg_id:  1 \n",
      " требование -  выполнено \n",
      "\n",
      " greeting - здравствуйте\n",
      "introduced - меня зовут ангелина\n",
      "managers_name - ангелина\n",
      "company_name - диджитал\n",
      "goodbye - всего хорошего\n",
      "goodbye - до свидания \n",
      "\n",
      "\n",
      "dlg_id:  2 \n",
      " требование -  не выполнено \n",
      "\n",
      " greeting - здравствуйте\n",
      "introduced - меня зовут ангелина\n",
      "managers_name - ангелина\n",
      "company_name - диджитал \n",
      "\n",
      "\n",
      "dlg_id:  3 \n",
      " требование -  выполнено \n",
      "\n",
      " greeting - добрый день\n",
      "introduced - меня максим зовут\n",
      "managers_name - максим\n",
      "company_name - китобизнес\n",
      "company_name - хорошо\n",
      "goodbye - всего доброго \n",
      "\n",
      "\n",
      "dlg_id:  4 \n",
      " требование -  не выполнено \n",
      "\n",
      " goodbye - до свидания \n",
      "\n",
      "\n",
      "dlg_id:  5 \n",
      " требование -  не выполнено \n",
      "\n",
      " goodbye - до свидания \n",
      "\n",
      "\n"
     ]
    }
   ],
   "source": [
    "for i in range(len(dlg_id_info)):\n",
    "    print('dlg_id: ', i, '\\n', \\\n",
    "          'требование - ', 'выполнено' if 'greeting' in dlg_id_info.insight[i].split() \\\n",
    "                                        and 'goodbye' in dlg_id_info.insight[i].split() else 'не выполнено', '\\n\\n',\\\n",
    "          '\\n'.join(dlg_id_info.insight[i].split('; ')), '\\n\\n')\n",
    "    "
   ]
  },
  {
   "cell_type": "code",
   "execution_count": null,
   "id": "93cee459",
   "metadata": {},
   "outputs": [],
   "source": []
  }
 ],
 "metadata": {
  "kernelspec": {
   "display_name": "Python 3 (ipykernel)",
   "language": "python",
   "name": "python3"
  },
  "language_info": {
   "codemirror_mode": {
    "name": "ipython",
    "version": 3
   },
   "file_extension": ".py",
   "mimetype": "text/x-python",
   "name": "python",
   "nbconvert_exporter": "python",
   "pygments_lexer": "ipython3",
   "version": "3.8.12"
  }
 },
 "nbformat": 4,
 "nbformat_minor": 5
}
